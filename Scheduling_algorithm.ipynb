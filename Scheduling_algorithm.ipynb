{
 "cells": [
  {
   "cell_type": "code",
   "execution_count": 3,
   "id": "db4bca08-9bdf-4e79-8324-d6df59a61802",
   "metadata": {},
   "outputs": [
    {
     "name": "stdout",
     "output_type": "stream",
     "text": [
      "Waiting Times: [0, 4, 6, 6]\n",
      "Turnaround Times: [5, 7, 8, 10]\n"
     ]
    }
   ],
   "source": [
    "def fcfs(processes):\n",
    "    processes.sort(key = lambda x: x[0])\n",
    "\n",
    "    ct = 0\n",
    "    wts = []\n",
    "    tts = []\n",
    "\n",
    "    for arrival, burst in processes:\n",
    "        wt = max(0, ct-arrival)\n",
    "        ct += burst\n",
    "        tt = ct-arrival\n",
    "        wts.append(wt)\n",
    "        tts.append(tt)\n",
    "    return wts, tts\n",
    "\n",
    "# Example usage\n",
    "processes = [(0, 5), (1, 3), (2, 2), (4, 4)]\n",
    "waiting_times, turnaround_times = fcfs(processes)\n",
    "print(\"Waiting Times:\", waiting_times)\n",
    "print(\"Turnaround Times:\", turnaround_times)"
   ]
  },
  {
   "cell_type": "code",
   "execution_count": null,
   "id": "d23749c7-e489-4926-b9ed-e349c49ac604",
   "metadata": {},
   "outputs": [],
   "source": [
    "# 2. Shortest Job First (SJF) Scheduling\n",
    "\n",
    "# Algorithm Steps:\n",
    "\n",
    "# Create a list to store the processes with their arrival times and burst times.\n",
    "# Initialize a variable to store the current time.\n",
    "# Create a priority queue to store the processes based on their burst times.\n",
    "# Iterate through the priority queue and execute the process with the shortest burst time first.\n",
    "# For each process, increment the current time by the burst time of the process.\n",
    "# Calculate the waiting time and turnaround time for each process."
   ]
  },
  {
   "cell_type": "code",
   "execution_count": null,
   "id": "1558bea1-758a-48a8-bc51-946dedfd1289",
   "metadata": {},
   "outputs": [],
   "source": [
    "import heapq\n",
    "\n",
    "def sjf(processes):\n",
    "    # Create a priority queue based on burst times\n",
    "    pq = [(burst, arrival) for arrival, burst in processes]\n",
    "    heapq.heapify(pq)\n",
    "\n",
    "    current_time = 0\n",
    "    waiting_times = []\n",
    "    turnaround_times = []\n",
    "\n",
    "    while pq:\n",
    "        burst, arrival = heapq.heappop(pq)\n",
    "        waiting_time = max(0, current_time - arrival)\n",
    "        current_time += burst\n",
    "        turnaround_time = current_time - arrival\n",
    "        waiting_times.append(waiting_time)\n",
    "        turnaround_times.append(turnaround_time)\n",
    "\n",
    "    return waiting_times, turnaround_times\n",
    "\n",
    "# Example usage\n",
    "processes = [(0, 5), (1, 3), (2, 2), (4, 4)]\n",
    "waiting_times, turnaround_times = sjf(processes)\n",
    "print(\"Waiting Times:\", waiting_times)\n",
    "print(\"Turnaround Times:\", turnaround_times)"
   ]
  },
  {
   "cell_type": "code",
   "execution_count": null,
   "id": "7a2f9ea8-b3d7-4d96-b5b1-5b40e1455152",
   "metadata": {},
   "outputs": [],
   "source": [
    "# 3. Priority Scheduling\n",
    "\n",
    "# Algorithm Steps:\n",
    "\n",
    "# Create a list to store the processes with their arrival times, burst times, and priorities.\n",
    "# Initialize a variable to store the current time.\n",
    "# Create a priority queue to store the processes based on their priorities.\n",
    "# Iterate through the priority queue and execute the process with the highest priority first.\n",
    "# For each process, increment the current time by the burst time of the process.\n",
    "# Calculate the waiting time and turnaround time for each process."
   ]
  },
  {
   "cell_type": "code",
   "execution_count": 4,
   "id": "23a9ebff-08c6-4707-93db-981b4353add6",
   "metadata": {},
   "outputs": [
    {
     "name": "stdout",
     "output_type": "stream",
     "text": [
      "Waiting Times: [0, 0, 7, 10]\n",
      "Turnaround Times: [2, 3, 12, 12]\n"
     ]
    }
   ],
   "source": [
    "import heapq\n",
    "\n",
    "def priority_scheduling(processes):\n",
    "    # Create a priority queue based on priorities\n",
    "    pq = [(priority, burst, arrival) for arrival, burst, priority in processes]\n",
    "    heapq.heapify(pq)\n",
    "\n",
    "    current_time = 0\n",
    "    waiting_times = []\n",
    "    turnaround_times = []\n",
    "\n",
    "    while pq:\n",
    "        priority, burst, arrival = heapq.heappop(pq)\n",
    "        waiting_time = max(0, current_time - arrival)\n",
    "        current_time += burst\n",
    "        turnaround_time = current_time - arrival\n",
    "        waiting_times.append(waiting_time)\n",
    "        turnaround_times.append(turnaround_time)\n",
    "\n",
    "    return waiting_times, turnaround_times\n",
    "\n",
    "# Example usage\n",
    "processes = [(0, 5, 2), (1, 3, 1), (2, 2, 3), (4, 4, 2)]\n",
    "waiting_times, turnaround_times = priority_scheduling(processes)\n",
    "print(\"Waiting Times:\", waiting_times)\n",
    "print(\"Turnaround Times:\", turnaround_times)"
   ]
  },
  {
   "cell_type": "code",
   "execution_count": 5,
   "id": "f5d4ff43-8e49-4bbf-8f6b-05d392d79c6e",
   "metadata": {},
   "outputs": [
    {
     "name": "stdout",
     "output_type": "stream",
     "text": [
      "Waiting Times: [4, 1]\n",
      "Turnaround Times: [3, 3]\n"
     ]
    }
   ],
   "source": [
    "import heapq\n",
    "\n",
    "def priority_scheduling(processes):\n",
    "    pq = []\n",
    "    current_time = 0\n",
    "    waiting_times = []\n",
    "    turnaround_times = []\n",
    "    executing_process = None\n",
    "    executing_burst = 0\n",
    "\n",
    "    for arrival, burst, priority in sorted(processes):\n",
    "        while current_time < arrival:\n",
    "            if executing_process:\n",
    "                executing_burst -= 1\n",
    "                if executing_burst == 0:\n",
    "                    executing_process = None\n",
    "            current_time += 1\n",
    "\n",
    "        if executing_process:\n",
    "            heapq.heappush(pq, (executing_process[0], executing_burst, executing_process[2]))\n",
    "            executing_process = None\n",
    "\n",
    "        if pq and priority > pq[0][0]:\n",
    "            executing_burst, _, _ = heapq.heappop(pq)\n",
    "            executing_process = (pq[0][0], executing_burst, pq[0][2])\n",
    "            heapq.heappush(pq, (priority, burst, arrival))\n",
    "        else:\n",
    "            if executing_process:\n",
    "                heapq.heappush(pq, (executing_process[0], executing_burst, executing_process[2]))\n",
    "            executing_process = (priority, burst, arrival)\n",
    "\n",
    "    while pq:\n",
    "        priority, burst, arrival = heapq.heappop(pq)\n",
    "        waiting_time = max(0, current_time - arrival)\n",
    "        current_time += burst\n",
    "        turnaround_time = current_time - arrival\n",
    "        waiting_times.append(waiting_time)\n",
    "        turnaround_times.append(turnaround_time)\n",
    "\n",
    "    return waiting_times, turnaround_times\n",
    "\n",
    "# Example usage\n",
    "processes = [(0, 5, 2), (1, 3, 1), (2, 2, 3), (4, 4, 2)]\n",
    "waiting_times, turnaround_times = priority_scheduling(processes)\n",
    "print(\"Waiting Times:\", waiting_times)\n",
    "print(\"Turnaround Times:\", turnaround_times)"
   ]
  },
  {
   "cell_type": "code",
   "execution_count": null,
   "id": "5cecd815-7ea6-4101-878c-26e7a90a5f85",
   "metadata": {},
   "outputs": [],
   "source": [
    "# 4. Round Robin (RR) Scheduling\n",
    "\n",
    "# Algorithm Steps:\n",
    "\n",
    "# Create a list to store the processes with their arrival times and burst times.\n",
    "# Initialize a variable to store the current time and a time quantum (e.g., 2).\n",
    "# Create a queue to store the processes.\n",
    "# Iterate through the queue and execute each process for the time quantum.\n",
    "# If a process finishes within the time quantum, remove it from the queue.\n",
    "# If a process does not finish within the time quantum, add it to the end of the queue with the remaining burst time.\n",
    "# Calculate the waiting time and turnaround time for each process."
   ]
  },
  {
   "cell_type": "code",
   "execution_count": null,
   "id": "26955097-e23d-4a20-a4d0-96fc636886a7",
   "metadata": {},
   "outputs": [],
   "source": [
    "def round_robin(processes, time_quantum):\n",
    "    current_time = 0\n",
    "    queue = [(burst, arrival) for arrival, burst in processes]\n",
    "    waiting_times = []\n",
    "    turnaround_times = []\n",
    "\n",
    "    while queue:\n",
    "        burst, arrival = queue.pop(0)\n",
    "        if burst <= time_quantum:\n",
    "            current_time += burst\n",
    "            waiting_time = max(0, current_time - arrival)\n",
    "            turnaround_time = current_time - arrival\n",
    "            waiting_times.append(waiting_time)\n",
    "            turnaround_times.append(turnaround_time)\n",
    "        else:\n",
    "            burst -= time_quantum\n",
    "            current_time += time_quantum\n",
    "            queue.append((burst, arrival))\n",
    "\n",
    "    return waiting_times, turnaround_times\n",
    "\n",
    "# Example usage\n",
    "processes = [(0, 5), (1, 3), (2, 2), (4, 4)]\n",
    "time_quantum = 2\n",
    "waiting_times, turnaround_times = round_robin(processes, time_quantum)\n",
    "print(\"Waiting Times:\", waiting_times)\n",
    "print(\"Turnaround Times:\", turnaround_times)"
   ]
  }
 ],
 "metadata": {
  "kernelspec": {
   "display_name": "Python 3 (ipykernel)",
   "language": "python",
   "name": "python3"
  },
  "language_info": {
   "codemirror_mode": {
    "name": "ipython",
    "version": 3
   },
   "file_extension": ".py",
   "mimetype": "text/x-python",
   "name": "python",
   "nbconvert_exporter": "python",
   "pygments_lexer": "ipython3",
   "version": "3.12.2"
  }
 },
 "nbformat": 4,
 "nbformat_minor": 5
}
